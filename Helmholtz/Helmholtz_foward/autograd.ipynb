{
 "cells": [
  {
   "cell_type": "markdown",
   "metadata": {},
   "source": [
    "## 自动微分的基本原理\n",
    "自动微分的关键在于将复杂的函数分解为一系列简单函数的组合，然后应用链式法则（Chain Rule）进行求导。这个过程不同于数值微分（使用有限差分近似）和符号微分（进行符号上的推导），它可以精确地计算导数，同时避免了符号微分的表达式膨胀问题和数值微分的精度损失。"
   ]
  },
  {
   "cell_type": "code",
   "execution_count": 16,
   "metadata": {},
   "outputs": [
    {
     "name": "stdout",
     "output_type": "stream",
     "text": [
      "tensor([7.])\n"
     ]
    }
   ],
   "source": [
    "import torch\n",
    "\n",
    "# 示例：简单的自动微分\n",
    "x = torch.tensor([2.0], requires_grad=True)\n",
    "y = x ** 2 + 3 * x + 1\n",
    "y.backward()\n",
    "\n",
    "# 打印梯度\n",
    "print(x.grad)  # 输出应为 2*x + 3 在 x=2 时的值，即 7\n"
   ]
  },
  {
   "cell_type": "markdown",
   "metadata": {},
   "source": [
    "## 自动微分在深度学习中的应用\n",
    "在深度学习中，训练神经网络的核心是优化损失函数，即调整网络参数以最小化损失。这一过程需要计算损失函数相对于网络参数的梯度，自动微分在这里发挥着关键作用。\n",
    "\n",
    "以一个简单的线性回归模型为例，模型的目标是找到一组参数，使得模型的预测尽可能接近实际数据。在这个过程中，自动微分帮助我们有效地计算损失函数关于参数的梯度，进而通过梯度下降法更新参数。"
   ]
  },
  {
   "cell_type": "code",
   "execution_count": 18,
   "metadata": {},
   "outputs": [
    {
     "name": "stdout",
     "output_type": "stream",
     "text": [
      "torch.Size([2, 1]) tensor([[1.],\n",
      "        [2.]], requires_grad=True)\n",
      "torch.Size([2, 2]) tensor([[1., 4.],\n",
      "        [4., 1.]], grad_fn=<MulBackward0>)\n",
      "torch.Size([2, 1]) tensor([[1.],\n",
      "        [4.]], grad_fn=<SliceBackward0>)\n",
      "tensor([[2.],\n",
      "        [4.]], grad_fn=<SliceBackward0>)\n",
      "tensor([[2.],\n",
      "        [2.]], grad_fn=<SliceBackward0>)\n"
     ]
    }
   ],
   "source": [
    "# 示例：线性回归中的梯度计算\n",
    "x_1_f = torch.tensor([[1.0],[2.0]], requires_grad=True).float()\n",
    "x_2_f = torch.tensor([[2.0],[1.0]], requires_grad=True).float()\n",
    "print(x_1_f.shape,x_1_f)\n",
    "# 模型参数\n",
    "weight = torch.tensor([1.0], requires_grad=True)\n",
    "\n",
    "# 前向传播\n",
    "y = weight*torch.cat([x_1_f, x_2_f], dim=1)**2\n",
    "\n",
    "print(y.shape,y)\n",
    "# 损失函数\n",
    "ur_pred_train = (y[:,0:1])\n",
    "ui_pred_train = (y[:,1:2])\n",
    "print(ur_pred_train.shape,ur_pred_train)\n",
    "# 计算梯度\n",
    "ur_x = torch.autograd.grad(\n",
    "            ur_pred_train, x_1_f, \n",
    "            grad_outputs=torch.ones_like(ur_pred_train),\n",
    "            retain_graph=True,\n",
    "            create_graph=True\n",
    "        )[0]\n",
    "print(ur_x)\n",
    "ur_xx = torch.autograd.grad(\n",
    "            ur_x, x_1_f, \n",
    "            grad_outputs=torch.ones_like(ur_x),\n",
    "            retain_graph=True,\n",
    "            create_graph=True\n",
    "        )[0] \n",
    "print(ur_xx)\n",
    "\n",
    "\n"
   ]
  },
  {
   "cell_type": "code",
   "execution_count": null,
   "metadata": {},
   "outputs": [],
   "source": []
  }
 ],
 "metadata": {
  "kernelspec": {
   "display_name": "pytorch-gpu",
   "language": "python",
   "name": "python3"
  },
  "language_info": {
   "codemirror_mode": {
    "name": "ipython",
    "version": 3
   },
   "file_extension": ".py",
   "mimetype": "text/x-python",
   "name": "python",
   "nbconvert_exporter": "python",
   "pygments_lexer": "ipython3",
   "version": "3.9.0"
  }
 },
 "nbformat": 4,
 "nbformat_minor": 2
}
